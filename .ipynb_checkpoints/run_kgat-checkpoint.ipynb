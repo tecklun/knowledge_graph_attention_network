{
 "cells": [
  {
   "cell_type": "code",
   "execution_count": 5,
   "metadata": {},
   "outputs": [],
   "source": [
    "def load_ratings(file_name):\n",
    "    import numpy as np\n",
    "    user_dict = dict()\n",
    "    inter_mat = list()\n",
    "\n",
    "    lines = open(file_name, 'r').readlines()\n",
    "    for l in lines:\n",
    "        tmps = l.strip()\n",
    "        inters = [int(i) for i in tmps.split(' ')]\n",
    "\n",
    "        u_id, pos_ids = inters[0], inters[1:]\n",
    "        pos_ids = list(set(pos_ids))\n",
    "\n",
    "        for i_id in pos_ids:\n",
    "            inter_mat.append([u_id, i_id])\n",
    "\n",
    "        if len(pos_ids) > 0:\n",
    "            user_dict[u_id] = pos_ids\n",
    "    return np.array(inter_mat), user_dict"
   ]
  },
  {
   "cell_type": "code",
   "execution_count": 14,
   "metadata": {},
   "outputs": [],
   "source": [
    "def load_kg(file_name):\n",
    "    import collections\n",
    "    import numpy as np\n",
    "    def _construct_kg(kg_np):\n",
    "        kg = collections.defaultdict(list)\n",
    "        rd = collections.defaultdict(list)\n",
    "\n",
    "        for head, relation, tail in kg_np:\n",
    "            kg[head].append((tail, relation))\n",
    "            rd[relation].append((head, tail))\n",
    "        return kg, rd\n",
    "\n",
    "    kg_np = np.loadtxt(file_name, dtype=np.int32)\n",
    "    kg_np = np.unique(kg_np, axis=0)\n",
    "\n",
    "    # self.n_relations = len(set(kg_np[:, 1]))\n",
    "    # self.n_entities = len(set(kg_np[:, 0]) | set(kg_np[:, 2]))\n",
    "    n_relations = max(kg_np[:, 1]) + 1\n",
    "    n_entities = max(max(kg_np[:, 0]), max(kg_np[:, 2])) + 1\n",
    "    n_triples = len(kg_np)\n",
    "\n",
    "    kg_dict, relation_dict = _construct_kg(kg_np)\n",
    "\n",
    "    return kg_np, kg_dict, relation_dict"
   ]
  },
  {
   "cell_type": "code",
   "execution_count": 18,
   "metadata": {},
   "outputs": [],
   "source": [
    "inter_mat, user_dict = load_ratings('E:/GitHub/knowledge_graph_attention_network/Data/own_data/own_train.txt')"
   ]
  },
  {
   "cell_type": "code",
   "execution_count": 19,
   "metadata": {},
   "outputs": [
    {
     "name": "stdout",
     "output_type": "stream",
     "text": [
      "(10, 2)\n",
      "[[0 0]\n",
      " [0 1]\n",
      " [0 2]\n",
      " [0 3]\n",
      " [1 1]\n",
      " [2 2]\n",
      " [3 3]\n",
      " [4 1]\n",
      " [4 2]\n",
      " [4 3]]\n",
      "{0: [0, 1, 2, 3], 1: [1], 2: [2], 3: [3], 4: [1, 2, 3]}\n"
     ]
    }
   ],
   "source": [
    "print(inter_mat.shape)\n",
    "print(inter_mat)\n",
    "print(user_dict)"
   ]
  },
  {
   "cell_type": "code",
   "execution_count": null,
   "metadata": {},
   "outputs": [],
   "source": [
    "load_kg('E:/GitHub/knowledge_graph_attention_network/Data/own_data/kg_final.txt')"
   ]
  }
 ],
 "metadata": {
  "kernelspec": {
   "display_name": "Python 3",
   "language": "python",
   "name": "python3"
  },
  "language_info": {
   "codemirror_mode": {
    "name": "ipython",
    "version": 3
   },
   "file_extension": ".py",
   "mimetype": "text/x-python",
   "name": "python",
   "nbconvert_exporter": "python",
   "pygments_lexer": "ipython3",
   "version": "3.8.3"
  }
 },
 "nbformat": 4,
 "nbformat_minor": 4
}
