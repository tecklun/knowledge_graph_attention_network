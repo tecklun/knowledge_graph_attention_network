{
 "cells": [
  {
   "cell_type": "code",
   "execution_count": 36,
   "metadata": {},
   "outputs": [],
   "source": [
    "def update_kg_final(train, test, kg):\n",
    "    \"\"\"\n",
    "    Function to update kg_final by checking the input train.txt and test.txt, to identify the largest item index. \n",
    "    Then, on kg_final, reduce all entities with index > that identified earlier.\n",
    "    E.g. max(itemID) reduced from 100 to 50, then to kg_final:\n",
    "        all triplets with index 51 to 100 are removed\n",
    "        all indexes with values 101 and above are reduced by 50 (i.e. 101 -> 51, 102 -> 52)\n",
    "    Argument\n",
    "        train: train.txt:\n",
    "        test: test.txt:\n",
    "        kg: kg_final.txt\n",
    "    Return:\n",
    "        kg_final_chg.txt: Same as kg_final.txt, after removing all itemID not found in train/test.txt\n",
    "    \"\"\"\n",
    "    import numpy as np\n",
    "    \n",
    "    # Train.txt\n",
    "    user_dict = dict()\n",
    "    inter_mat = list()\n",
    "    lines = open(train, 'r').readlines()\n",
    "    for l in lines:\n",
    "        tmps = l.strip()\n",
    "        inters = [int(i) for i in tmps.split(' ')]\n",
    "        u_id, pos_ids = inters[0], inters[1:]\n",
    "        pos_ids = list(set(pos_ids))\n",
    "        for i_id in pos_ids:\n",
    "            inter_mat.append([u_id, i_id])\n",
    "        if len(pos_ids) > 0:\n",
    "            user_dict[u_id] = pos_ids\n",
    "    train_data = np.array(inter_mat)\n",
    "    max_item_train = max(train_data[:,1])\n",
    "    \n",
    "    # Text.txt\n",
    "    user_dict = dict()\n",
    "    inter_mat = list()\n",
    "    lines = open(test, 'r').readlines()\n",
    "    for l in lines:\n",
    "        tmps = l.strip()\n",
    "        inters = [int(i) for i in tmps.split(' ')]\n",
    "        u_id, pos_ids = inters[0], inters[1:]\n",
    "        pos_ids = list(set(pos_ids))\n",
    "        for i_id in pos_ids:\n",
    "            inter_mat.append([u_id, i_id])\n",
    "        if len(pos_ids) > 0:\n",
    "            user_dict[u_id] = pos_ids\n",
    "    test_data = np.array(inter_mat)\n",
    "    max_item_test = max(test_data[:,1])\n",
    "    \n",
    "    # Check all indexes are valid\n",
    "    has_all_index_train = np.isin(np.arange(max_item_train), train_data[:,1])\n",
    "    miss_train_index = train_data[np.logical_not(has_all_index_train), 1]\n",
    "    \n",
    "    has_all_index_test = np.isin(np.arange(max_item_test), test_data[:,1])\n",
    "    miss_test_index = test_data[np.logical_not(has_all_index_test), 1]\n",
    "    \n",
    "    return max_item_train, max_item_test, has_all_index_train.all(), has_all_index_test.all(), miss_train_index, miss_test_index"
   ]
  },
  {
   "cell_type": "code",
   "execution_count": 37,
   "metadata": {},
   "outputs": [
    {
     "ename": "IndexError",
     "evalue": "boolean index did not match indexed array along dimension 0; dimension is 5023 but corresponding boolean dimension is 3490",
     "output_type": "error",
     "traceback": [
      "\u001b[1;31m---------------------------------------------------------------------------\u001b[0m",
      "\u001b[1;31mIndexError\u001b[0m                                Traceback (most recent call last)",
      "\u001b[1;32m<ipython-input-37-51b0f5d546a2>\u001b[0m in \u001b[0;36m<module>\u001b[1;34m\u001b[0m\n\u001b[1;32m----> 1\u001b[1;33m \u001b[0mupdate_kg_final\u001b[0m\u001b[1;33m(\u001b[0m\u001b[1;34m'train.txt'\u001b[0m\u001b[1;33m,\u001b[0m \u001b[1;34m'test.txt'\u001b[0m\u001b[1;33m,\u001b[0m \u001b[1;34m'kg_final.txt'\u001b[0m\u001b[1;33m)\u001b[0m\u001b[1;33m\u001b[0m\u001b[1;33m\u001b[0m\u001b[0m\n\u001b[0m",
      "\u001b[1;32m<ipython-input-36-db15ea398c47>\u001b[0m in \u001b[0;36mupdate_kg_final\u001b[1;34m(train, test, kg)\u001b[0m\n\u001b[0;32m     49\u001b[0m     \u001b[1;31m# Check all indexes are valid\u001b[0m\u001b[1;33m\u001b[0m\u001b[1;33m\u001b[0m\u001b[1;33m\u001b[0m\u001b[0m\n\u001b[0;32m     50\u001b[0m     \u001b[0mhas_all_index_train\u001b[0m \u001b[1;33m=\u001b[0m \u001b[0mnp\u001b[0m\u001b[1;33m.\u001b[0m\u001b[0misin\u001b[0m\u001b[1;33m(\u001b[0m\u001b[0mnp\u001b[0m\u001b[1;33m.\u001b[0m\u001b[0marange\u001b[0m\u001b[1;33m(\u001b[0m\u001b[0mmax_item_train\u001b[0m\u001b[1;33m)\u001b[0m\u001b[1;33m,\u001b[0m \u001b[0mtrain_data\u001b[0m\u001b[1;33m[\u001b[0m\u001b[1;33m:\u001b[0m\u001b[1;33m,\u001b[0m\u001b[1;36m1\u001b[0m\u001b[1;33m]\u001b[0m\u001b[1;33m)\u001b[0m\u001b[1;33m\u001b[0m\u001b[1;33m\u001b[0m\u001b[0m\n\u001b[1;32m---> 51\u001b[1;33m     \u001b[0mmiss_train_index\u001b[0m \u001b[1;33m=\u001b[0m \u001b[0mtrain_data\u001b[0m\u001b[1;33m[\u001b[0m\u001b[0mnp\u001b[0m\u001b[1;33m.\u001b[0m\u001b[0mlogical_not\u001b[0m\u001b[1;33m(\u001b[0m\u001b[0mhas_all_index_train\u001b[0m\u001b[1;33m)\u001b[0m\u001b[1;33m,\u001b[0m \u001b[1;36m1\u001b[0m\u001b[1;33m]\u001b[0m\u001b[1;33m\u001b[0m\u001b[1;33m\u001b[0m\u001b[0m\n\u001b[0m\u001b[0;32m     52\u001b[0m \u001b[1;33m\u001b[0m\u001b[0m\n\u001b[0;32m     53\u001b[0m     \u001b[0mhas_all_index_test\u001b[0m \u001b[1;33m=\u001b[0m \u001b[0mnp\u001b[0m\u001b[1;33m.\u001b[0m\u001b[0misin\u001b[0m\u001b[1;33m(\u001b[0m\u001b[0mnp\u001b[0m\u001b[1;33m.\u001b[0m\u001b[0marange\u001b[0m\u001b[1;33m(\u001b[0m\u001b[0mmax_item_test\u001b[0m\u001b[1;33m)\u001b[0m\u001b[1;33m,\u001b[0m \u001b[0mtest_data\u001b[0m\u001b[1;33m[\u001b[0m\u001b[1;33m:\u001b[0m\u001b[1;33m,\u001b[0m\u001b[1;36m1\u001b[0m\u001b[1;33m]\u001b[0m\u001b[1;33m)\u001b[0m\u001b[1;33m\u001b[0m\u001b[1;33m\u001b[0m\u001b[0m\n",
      "\u001b[1;31mIndexError\u001b[0m: boolean index did not match indexed array along dimension 0; dimension is 5023 but corresponding boolean dimension is 3490"
     ]
    }
   ],
   "source": [
    "update_kg_final('train.txt', 'test.txt', 'kg_final.txt')"
   ]
  },
  {
   "cell_type": "code",
   "execution_count": 133,
   "metadata": {},
   "outputs": [
    {
     "name": "stdout",
     "output_type": "stream",
     "text": [
      "Train\n",
      " 42153 []\n",
      "\n",
      "Test\n",
      " 45534 [    1     3    15 ... 45518 45525 45526]\n"
     ]
    }
   ],
   "source": [
    "import numpy as np\n",
    "train = 'train.txt'\n",
    "test = 'test.txt'\n",
    "    \n",
    "# Train.txt\n",
    "user_dict = dict()\n",
    "inter_mat = list()\n",
    "lines = open(train, 'r').readlines()\n",
    "for l in lines:\n",
    "    tmps = l.strip()\n",
    "    inters = [int(i) for i in tmps.split(' ')]\n",
    "    u_id, pos_ids = inters[0], inters[1:]\n",
    "    pos_ids = list(set(pos_ids))\n",
    "    for i_id in pos_ids:\n",
    "        inter_mat.append([u_id, i_id])\n",
    "    if len(pos_ids) > 0:\n",
    "        user_dict[u_id] = pos_ids\n",
    "train_data = np.array(inter_mat)\n",
    "max_item_train = max(train_data[:,1])\n",
    "\n",
    "# Text.txt\n",
    "user_dict = dict()\n",
    "inter_mat = list()\n",
    "lines = open(test, 'r').readlines()\n",
    "for l in lines:\n",
    "    tmps = l.strip()\n",
    "    inters = [int(i) for i in tmps.split(' ')]\n",
    "    u_id, pos_ids = inters[0], inters[1:]\n",
    "    pos_ids = list(set(pos_ids))\n",
    "    for i_id in pos_ids:\n",
    "        inter_mat.append([u_id, i_id])\n",
    "    if len(pos_ids) > 0:\n",
    "        user_dict[u_id] = pos_ids\n",
    "test_data = np.array(inter_mat)\n",
    "max_item_test = max(test_data[:,1])\n",
    "\n",
    "# Check all indexes are valid\n",
    "has_all_index_train = np.isin(np.arange(max_item_train), train_data[:,1])\n",
    "miss_train_index = np.arange(max_item_train)[np.logical_not(has_all_index_train)]\n",
    "has_all_index_test = np.isin(np.arange(max_item_test), test_data[:,1])\n",
    "miss_test_index = np.arange(max_item_test)[np.logical_not(has_all_index_test)]\n",
    "print('Train\\n', max_item_train, miss_train_index)\n",
    "print('\\nTest\\n',  max_item_test, miss_test_index)"
   ]
  },
  {
   "cell_type": "code",
   "execution_count": 115,
   "metadata": {},
   "outputs": [
    {
     "name": "stdout",
     "output_type": "stream",
     "text": [
      "Saving to new text, where original :\n",
      " kg_np.shape =  (2005, 3) \n",
      "maximum index at 0, 2 are 46956 and 46932 \n",
      "\n",
      "and new :\n",
      " new_kg_np.shape =  (2005, 3) \n",
      "maximum index at 0, 2 are 46955 and 46931\n"
     ]
    }
   ],
   "source": [
    "DEFAULT_MAX_TRAIN_TEST = 45537\n",
    "max_train_test = max(max_item_train, max_item_test)\n",
    "entity_offset = DEFAULT_MAX_TRAIN_TEST - max_train_test\n",
    "\n",
    "# Read kg_final\n",
    "kg_np = np.loadtxt('kg_final.txt', dtype=np.int32)\n",
    "kg_np = np.unique(kg_np, axis=0)\n",
    "\n",
    "# Create new_kg_final\n",
    "new_kg_np = np.copy(kg_np)\n",
    "new_kg_np[:,0][kg_np[:,0] > DEFAULT_MAX_TRAIN_TEST] = kg_np[:,0][kg_np[:,0] > DEFAULT_MAX_TRAIN_TEST]-entity_offset\n",
    "new_kg_np[:,2][kg_np[:,2] > DEFAULT_MAX_TRAIN_TEST] = kg_np[:,2][kg_np[:,2] > DEFAULT_MAX_TRAIN_TEST]-entity_offset\n",
    "print('Saving to new text, where original :\\n',\n",
    "      'kg_np.shape = ', kg_np.shape, \n",
    "      '\\nmaximum index at 0, 2 are {} and {}'.format(max(kg_np[:,0]), max(kg_np[:,2])),\n",
    "      '\\n\\nand new :\\n',\n",
    "      'new_kg_np.shape = ', new_kg_np.shape, \n",
    "      '\\nmaximum index at 0, 2 are {} and {}'.format(max(new_kg_np[:,0]), max(new_kg_np[:,2])))\n",
    "#       new_kg_np.shape, kg_np.shape, max(new_kg_np[:,0]), max(new_kg_np[:,2]), max(kg_np[:,0]), max(kg_np[:,2]))\n",
    "np.savetxt('new_kg_final.txt', new_kg_np, delimiter=' ', fmt='%i')"
   ]
  },
  {
   "cell_type": "code",
   "execution_count": 118,
   "metadata": {},
   "outputs": [
    {
     "name": "stdout",
     "output_type": "stream",
     "text": [
      "[45525 45538 45541 45543 45546 45548 45550 45553 45555 45556 45559 45562\n",
      " 45563 45568 45570 45573 45576 45578 45580 45582]\n",
      "[45525 45537 45540 45542 45545 45547 45549 45552 45554 45555 45558 45561\n",
      " 45562 45567 45569 45572 45575 45577 45579 45581]\n",
      "[45703 45538 45541 45543 45546 45548 45550 45553 45544 45556 45559 45544\n",
      " 45563 45568 45564 45573 45576 45578 45544 45582]\n"
     ]
    }
   ],
   "source": [
    "print(kg_np[:,0][kg_np[:,0] > DEFAULT_MAX_TRAIN_TEST-30][:20])\n",
    "print(new_kg_np[:,0][kg_np[:,0] > DEFAULT_MAX_TRAIN_TEST-30][:20])\n",
    "print(new_kg_np[:,2][kg_np[:,0] > DEFAULT_MAX_TRAIN_TEST-30][:20])"
   ]
  },
  {
   "cell_type": "code",
   "execution_count": 73,
   "metadata": {},
   "outputs": [
    {
     "name": "stdout",
     "output_type": "stream",
     "text": [
      "[[    5    16 45601]\n",
      " [   13     2 45567]\n",
      " [   23     2 45762]\n",
      " [   94     6 45549]\n",
      " [   96     9 45623]\n",
      " [   97    14 45683]\n",
      " [  101    22 45615]\n",
      " [  108    16 45601]\n",
      " [  138    16 45601]\n",
      " [  205    20 45626]\n",
      " [  254    16 45601]\n",
      " [  281    20 45609]\n",
      " [  285    10 45560]\n",
      " [  330    22 45615]\n",
      " [  371    13 45572]\n",
      " [  388    13 45572]\n",
      " [  493     2 45795]\n",
      " [  525    28 45687]\n",
      " [  531     0 45786]\n",
      " [  551    23 45618]\n",
      " [  650    16 45726]\n",
      " [  669     9 45554]\n",
      " [  699     2 45994]\n",
      " [  704    18 45592]\n",
      " [  707     5 45596]\n",
      " [  765    14 45648]\n",
      " [  783     0 46568]\n",
      " [  948     9 45554]\n",
      " [  973     1 45540]\n",
      " [ 1014     5 45547]\n",
      " [ 1079     2 45565]\n",
      " [ 1086     0 45772]\n",
      " [ 1086    14 45898]\n",
      " [ 1103     5 45547]\n",
      " [ 1194    18 45592]\n",
      " [ 1199    16 46093]\n",
      " [ 1244     2 46329]\n",
      " [ 1443    16 45587]\n",
      " [ 1468     0 46081]\n",
      " [ 1498     9 45554]\n",
      " [ 1564     0 45838]\n",
      " [ 1575    36 46206]\n",
      " [ 1606     4 45545]\n",
      " [ 1632     2 45567]\n",
      " [ 1656    23 45618]\n",
      " [ 1667    10 45560]\n",
      " [ 1671    18 45592]\n",
      " [ 1678     2 46761]\n",
      " [ 1689     9 45554]\n",
      " [ 1820    14 45821]\n",
      " [ 1885    19 45630]\n",
      " [ 2010    19 46741]\n",
      " [ 2035     6 45694]\n",
      " [ 2053     8 45552]\n",
      " [ 2062    36 46206]\n",
      " [ 2121    18 45592]\n",
      " [ 2210    10 45560]\n",
      " [ 2258    35 46543]\n",
      " [ 2268     0 45838]\n",
      " [ 2304     1 45540]\n",
      " [ 2347     8 45646]\n",
      " [ 2414    15 45585]\n",
      " [ 2420     1 45540]\n",
      " [ 2440     2 46250]\n",
      " [ 2484     0 46336]\n",
      " [ 2524     6 45694]\n",
      " [ 2530     1 45540]\n",
      " [ 2672     4 45545]\n",
      " [ 2707     0 45564]\n",
      " [ 2823    14 45648]\n",
      " [ 2841     5 45547]\n",
      " [ 2870    11 45599]\n",
      " [ 2877     9 45554]\n",
      " [ 2907     2 46051]\n",
      " [ 2911    21 45631]\n",
      " [ 2939    16 45769]\n",
      " [ 2966    13 45572]\n",
      " [ 3058    27 45979]\n",
      " [ 3141    10 45560]\n",
      " [ 3169    11 45599]\n",
      " [ 3176     2 45567]\n",
      " [ 3360    25 45624]\n",
      " [ 3367    13 45572]\n",
      " [ 3390    35 46060]\n",
      " [ 3601     0 46336]\n",
      " [ 3617    15 45585]\n",
      " [ 3635     2 45762]\n",
      " [ 3644     5 45547]\n",
      " [ 3662    11 45561]\n",
      " [ 3665    18 45592]\n",
      " [ 3814    13 45572]\n",
      " [ 3828    23 45618]\n",
      " [ 3829    12 45569]\n",
      " [ 3876     2 45567]\n",
      " [ 3876    12 45569]\n",
      " [ 3938    29 45704]\n",
      " [ 4015    20 45626]\n",
      " [ 4080     2 46273]\n",
      " [ 4090    14 45581]\n",
      " [ 4121     2 46109]]\n"
     ]
    }
   ],
   "source": [
    "print(kg_np[:100])"
   ]
  },
  {
   "cell_type": "code",
   "execution_count": 70,
   "metadata": {},
   "outputs": [
    {
     "name": "stdout",
     "output_type": "stream",
     "text": [
      "[[    5    16 45600]\n",
      " [   13     2 45566]\n",
      " [   23     2 45761]\n",
      " [   94     6 45548]\n",
      " [   96     9 45622]]\n"
     ]
    }
   ],
   "source": [
    "print(new_kg_np[:5])"
   ]
  },
  {
   "cell_type": "code",
   "execution_count": 12,
   "metadata": {},
   "outputs": [],
   "source": [
    "\n",
    "# self.n_relations = len(set(kg_np[:, 1]))\n",
    "# self.n_entities = len(set(kg_np[:, 0]) | set(kg_np[:, 2]))\n",
    "n_relations = max(kg_np[:, 1]) + 1\n",
    "n_entities = max(max(kg_np[:, 0]), max(kg_np[:, 2])) + 1\n",
    "n_triples = len(kg_np)\n",
    "\n",
    "kg_dict, relation_dict = _construct_kg(kg_np)"
   ]
  },
  {
   "cell_type": "code",
   "execution_count": 40,
   "metadata": {},
   "outputs": [
    {
     "name": "stdout",
     "output_type": "stream",
     "text": [
      "46956 46932\n",
      "46956 45537 \n",
      " [False  True False False  True False  True False False  True False  True\n",
      " False  True False False  True False  True  True False False  True False\n",
      " False  True  True False False False False  True False  True False False\n",
      "  True False False  True False  True False  True False  True False  True\n",
      " False  True] [ True  True  True  True  True  True  True  True  True  True]\n",
      "46956 45537 \n",
      " [False False  True  True False  True False  True  True False  True False\n",
      "  True False  True  True False  True False False  True  True False  True\n",
      "  True False False  True  True  True  True False  True False  True  True\n",
      " False  True  True False  True False  True False  True False  True False\n",
      "  True False] [False False False False False False False False False False]\n"
     ]
    },
    {
     "data": {
      "text/plain": [
       "True"
      ]
     },
     "execution_count": 40,
     "metadata": {},
     "output_type": "execute_result"
    }
   ],
   "source": [
    "max_kg_0 = max(kg_np[:,0])\n",
    "max_kg_2 = max(kg_np[:,2])\n",
    "print(max_kg_0, max_kg_2)\n",
    "has_all_index_kg = np.isin(np.arange(max_kg_0), kg_np[:,0])\n",
    "has_all_index_kg_2 = np.isin(np.arange(max_kg_0), kg_np[:,2])\n",
    "kg_entity_index = has_all_index_kg[max_item_train:]\n",
    "kg_entity_index_2 = has_all_index_kg_2[max_item_train:]\n",
    "print(max_kg_0, max_item_train, '\\n', kg_entity_index[0:50], kg_entity_index[-10:])\n",
    "print(max_kg_0, max_item_train, '\\n', kg_entity_index_2[0:50], kg_entity_index_2[-10:])\n",
    "np.logical_or(kg_entity_index[1:], kg_entity_index_2[1:]).all()"
   ]
  },
  {
   "cell_type": "code",
   "execution_count": 27,
   "metadata": {},
   "outputs": [
    {
     "name": "stdout",
     "output_type": "stream",
     "text": [
      "(2005, 3) \n",
      " [[    5    16 45601]\n",
      " [   13     2 45567]\n",
      " [   23     2 45762]\n",
      " ...\n",
      " [46954     2 45567]\n",
      " [46955    18 46151]\n",
      " [46956     0 45564]]\n"
     ]
    }
   ],
   "source": [
    "print(kg_np.shape, '\\n', kg_np)"
   ]
  },
  {
   "cell_type": "code",
   "execution_count": 6,
   "metadata": {},
   "outputs": [
    {
     "data": {
      "text/plain": [
       "array([ True,  True,  True, False,  True])"
      ]
     },
     "execution_count": 6,
     "metadata": {},
     "output_type": "execute_result"
    }
   ],
   "source": [
    "np.isin(np.arange(max_item_train), train_data[:,1])"
   ]
  },
  {
   "cell_type": "code",
   "execution_count": 22,
   "metadata": {},
   "outputs": [
    {
     "name": "stdout",
     "output_type": "stream",
     "text": [
      "<class 'range'> <class 'list'> range(1, 10) [] False\n"
     ]
    }
   ],
   "source": [
    "a = range(1,10)\n",
    "b = list(list())\n",
    "print(type(a), type(b), a, b, a==b)"
   ]
  },
  {
   "cell_type": "code",
   "execution_count": 2,
   "metadata": {},
   "outputs": [
    {
     "data": {
      "text/plain": [
       "array([[0, 0],\n",
       "       [1, 1],\n",
       "       [2, 2],\n",
       "       [3, 3],\n",
       "       [3, 4],\n",
       "       [4, 4]])"
      ]
     },
     "execution_count": 2,
     "metadata": {},
     "output_type": "execute_result"
    }
   ],
   "source": [
    "train_data"
   ]
  },
  {
   "cell_type": "code",
   "execution_count": 5,
   "metadata": {},
   "outputs": [],
   "source": [
    "import numpy as np\n",
    "user_dict = dict()\n",
    "inter_mat = list()\n",
    "\n",
    "lines = open('train.txt', 'r').readlines()\n",
    "for l in lines:\n",
    "    tmps = l.strip()\n",
    "    inters = [int(i) for i in tmps.split(' ')]\n",
    "\n",
    "    u_id, pos_ids = inters[0], inters[1:]\n",
    "    pos_ids = list(set(pos_ids))\n",
    "\n",
    "    for i_id in pos_ids:\n",
    "        inter_mat.append([u_id, i_id])\n",
    "\n",
    "    if len(pos_ids) > 0:\n",
    "        user_dict[u_id] = pos_ids\n",
    "\n",
    "train_data = np.array(inter_mat)"
   ]
  },
  {
   "cell_type": "code",
   "execution_count": 8,
   "metadata": {},
   "outputs": [
    {
     "data": {
      "text/plain": [
       "45537"
      ]
     },
     "execution_count": 8,
     "metadata": {},
     "output_type": "execute_result"
    }
   ],
   "source": [
    "max(train_data[:,1])"
   ]
  },
  {
   "cell_type": "code",
   "execution_count": 5,
   "metadata": {},
   "outputs": [],
   "source": [
    "def load_ratings(file_name):\n",
    "    import numpy as np\n",
    "    user_dict = dict()\n",
    "    inter_mat = list()\n",
    "\n",
    "    lines = open(file_name, 'r').readlines()\n",
    "    for l in lines:\n",
    "        tmps = l.strip()\n",
    "        inters = [int(i) for i in tmps.split(' ')]\n",
    "\n",
    "        u_id, pos_ids = inters[0], inters[1:]\n",
    "        pos_ids = list(set(pos_ids))\n",
    "\n",
    "        for i_id in pos_ids:\n",
    "            inter_mat.append([u_id, i_id])\n",
    "\n",
    "        if len(pos_ids) > 0:\n",
    "            user_dict[u_id] = pos_ids\n",
    "    return np.array(inter_mat), user_dict"
   ]
  },
  {
   "cell_type": "code",
   "execution_count": 14,
   "metadata": {},
   "outputs": [],
   "source": [
    "def load_kg(file_name):\n",
    "    import collections\n",
    "    import numpy as np\n",
    "    def _construct_kg(kg_np):\n",
    "        kg = collections.defaultdict(list)\n",
    "        rd = collections.defaultdict(list)\n",
    "\n",
    "        for head, relation, tail in kg_np:\n",
    "            kg[head].append((tail, relation))\n",
    "            rd[relation].append((head, tail))\n",
    "        return kg, rd\n",
    "\n",
    "    kg_np = np.loadtxt(file_name, dtype=np.int32)\n",
    "    kg_np = np.unique(kg_np, axis=0)\n",
    "\n",
    "    # self.n_relations = len(set(kg_np[:, 1]))\n",
    "    # self.n_entities = len(set(kg_np[:, 0]) | set(kg_np[:, 2]))\n",
    "    n_relations = max(kg_np[:, 1]) + 1\n",
    "    n_entities = max(max(kg_np[:, 0]), max(kg_np[:, 2])) + 1\n",
    "    n_triples = len(kg_np)\n",
    "\n",
    "    kg_dict, relation_dict = _construct_kg(kg_np)\n",
    "\n",
    "    return kg_np, kg_dict, relation_dict"
   ]
  },
  {
   "cell_type": "code",
   "execution_count": 20,
   "metadata": {},
   "outputs": [
    {
     "name": "stdout",
     "output_type": "stream",
     "text": [
      "(10, 2)\n",
      "[[0 0]\n",
      " [0 1]\n",
      " [0 2]\n",
      " [0 3]\n",
      " [1 1]\n",
      " [2 2]\n",
      " [3 3]\n",
      " [4 1]\n",
      " [4 2]\n",
      " [4 3]]\n",
      "{0: [0, 1, 2, 3], 1: [1], 2: [2], 3: [3], 4: [1, 2, 3]}\n"
     ]
    }
   ],
   "source": [
    "inter_mat, user_dict = load_ratings('E:/GitHub/knowledge_graph_attention_network/Data/own_data/own_train.txt')\n",
    "print(inter_mat.shape)\n",
    "print(inter_mat)\n",
    "print(user_dict)"
   ]
  },
  {
   "cell_type": "code",
   "execution_count": 27,
   "metadata": {},
   "outputs": [],
   "source": [
    "kg_np, kg_dict, relation_dict = load_kg('E:/GitHub/knowledge_graph_attention_network/Data/own_data/own_kg.txt')"
   ]
  },
  {
   "cell_type": "code",
   "execution_count": 28,
   "metadata": {},
   "outputs": [
    {
     "name": "stdout",
     "output_type": "stream",
     "text": [
      "[[0 3 1]\n",
      " [0 4 2]]\n",
      "defaultdict(<class 'list'>, {0: [(1, 3), (2, 4)]})\n",
      "defaultdict(<class 'list'>, {3: [(0, 1)], 4: [(0, 2)]})\n"
     ]
    }
   ],
   "source": [
    "print(kg_np)\n",
    "print(kg_dict)\n",
    "print(relation_dict)"
   ]
  },
  {
   "cell_type": "code",
   "execution_count": 29,
   "metadata": {},
   "outputs": [
    {
     "data": {
      "text/plain": [
       "91455"
      ]
     },
     "execution_count": 29,
     "metadata": {},
     "output_type": "execute_result"
    }
   ],
   "source": [
    "45537+45918"
   ]
  },
  {
   "cell_type": "code",
   "execution_count": null,
   "metadata": {},
   "outputs": [],
   "source": []
  }
 ],
 "metadata": {
  "kernelspec": {
   "display_name": "Python 3",
   "language": "python",
   "name": "python3"
  },
  "language_info": {
   "codemirror_mode": {
    "name": "ipython",
    "version": 3
   },
   "file_extension": ".py",
   "mimetype": "text/x-python",
   "name": "python",
   "nbconvert_exporter": "python",
   "pygments_lexer": "ipython3",
   "version": "3.8.3"
  }
 },
 "nbformat": 4,
 "nbformat_minor": 4
}
